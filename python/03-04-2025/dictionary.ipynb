{
 "cells": [
  {
   "cell_type": "code",
   "execution_count": null,
   "metadata": {},
   "outputs": [],
   "source": [
    "# 1. ordered\n",
    "# 2. duplicacy not allowed\n",
    "# 3. insertion and deletion allowed\n",
    "# 4. mutable "
   ]
  },
  {
   "cell_type": "code",
   "execution_count": null,
   "metadata": {},
   "outputs": [
    {
     "name": "stdout",
     "output_type": "stream",
     "text": [
      "{1: 1, 2: 4, 3: 9, 4: 16, 5: 25, 6: 36, 7: 49, 8: 64, 9: 81, 10: 100, 11: 121, 12: 144, 13: 169, 14: 196, 15: 225}\n"
     ]
    }
   ],
   "source": [
    "# dictionary comprehension \n",
    "\n",
    "# displaying value and its sqaure using dictionary comprehension\n",
    "d = {i:i**2 for i in range(1,16)}\n",
    "print(d)"
   ]
  },
  {
   "cell_type": "code",
   "execution_count": null,
   "metadata": {},
   "outputs": [
    {
     "name": "stdout",
     "output_type": "stream",
     "text": [
      "{'jack': 22, 'Michael': 18}\n"
     ]
    }
   ],
   "source": [
    "# create a new dictionary of person whose age is fully divisible by 2\n",
    "d ={\"jack\":22,\"Siya\":23,\"John\":33,\"Michael\":18}\n",
    "d1 = {k:v for k,v in d.items() if v%2 == 0}\n",
    "print(d1)"
   ]
  },
  {
   "cell_type": "code",
   "execution_count": 8,
   "metadata": {},
   "outputs": [
    {
     "name": "stdout",
     "output_type": "stream",
     "text": [
      "{'jack': 'senior citizen', 'Siya': 'senior citizen', 'John': 'young', 'Michael': 'young', 'Harry': 'young'}\n"
     ]
    }
   ],
   "source": [
    "# age > 55 -> senior and citizen age < 55 -> young\n",
    "d = {\"jack\":67,\"Siya\":60,\"John\":43,\"Michael\":48,\"Harry\":49}\n",
    "d1 = {k:\"senior citizen\" if v > 55 else \"young\" for k,v in d.items()}\n",
    "print(d1)"
   ]
  }
 ],
 "metadata": {
  "kernelspec": {
   "display_name": "Python 3",
   "language": "python",
   "name": "python3"
  },
  "language_info": {
   "codemirror_mode": {
    "name": "ipython",
    "version": 3
   },
   "file_extension": ".py",
   "mimetype": "text/x-python",
   "name": "python",
   "nbconvert_exporter": "python",
   "pygments_lexer": "ipython3",
   "version": "3.13.2"
  }
 },
 "nbformat": 4,
 "nbformat_minor": 2
}
