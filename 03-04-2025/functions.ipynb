{
 "cells": [
  {
   "cell_type": "code",
   "execution_count": 1,
   "metadata": {},
   "outputs": [
    {
     "name": "stdout",
     "output_type": "stream",
     "text": [
      "hello world!\n"
     ]
    }
   ],
   "source": [
    "# functions are set of instructions to perform a specific task which only executes when we call it\n",
    "\n",
    "# defining a function\n",
    "def a():\n",
    "    print(\"hello world!\")\n",
    "a()"
   ]
  },
  {
   "cell_type": "code",
   "execution_count": null,
   "metadata": {},
   "outputs": [
    {
     "name": "stdout",
     "output_type": "stream",
     "text": [
      "92\n"
     ]
    }
   ],
   "source": [
    "# Argumented functions\n",
    "def add(x, y): # where x,y are arguments \n",
    "    return x + y\n",
    "print(add(32,60))"
   ]
  },
  {
   "cell_type": "code",
   "execution_count": 4,
   "metadata": {},
   "outputs": [
    {
     "name": "stdout",
     "output_type": "stream",
     "text": [
      "4321dcba\n"
     ]
    }
   ],
   "source": [
    "# reverse function\n",
    "def rev(x):\n",
    "    return x[::-1]\n",
    "s = input(\"Enter a string : \")\n",
    "print(rev(s))"
   ]
  },
  {
   "cell_type": "code",
   "execution_count": 14,
   "metadata": {},
   "outputs": [
    {
     "name": "stdout",
     "output_type": "stream",
     "text": [
      "[0, 3, 6]\n"
     ]
    }
   ],
   "source": [
    "# printing the index of the number \n",
    "l = [3,4,2,3,9,4,3,5]\n",
    "def print_i(l):\n",
    "    l1= []\n",
    "    for i in range(len(l)):\n",
    "        if l[i] == 3:\n",
    "            l1.append(i)\n",
    "    print(l1)\n",
    "print_i(l)"
   ]
  }
 ],
 "metadata": {
  "kernelspec": {
   "display_name": "Python 3",
   "language": "python",
   "name": "python3"
  },
  "language_info": {
   "codemirror_mode": {
    "name": "ipython",
    "version": 3
   },
   "file_extension": ".py",
   "mimetype": "text/x-python",
   "name": "python",
   "nbconvert_exporter": "python",
   "pygments_lexer": "ipython3",
   "version": "3.13.2"
  }
 },
 "nbformat": 4,
 "nbformat_minor": 2
}
